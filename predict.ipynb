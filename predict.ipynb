{
 "cells": [
  {
   "cell_type": "code",
   "execution_count": 39,
   "id": "06905eeb-329b-4baf-8c8c-877248296a39",
   "metadata": {},
   "outputs": [],
   "source": [
    "import pandas as pd\n",
    "\n",
    "weather = pd.read_csv(\"lucknow_weather.csv\", index_col=\"time\")"
   ]
  },
  {
   "cell_type": "code",
   "execution_count": 40,
   "id": "08517c6f-7f32-44b1-87c1-eee4e7e12e8d",
   "metadata": {},
   "outputs": [
    {
     "data": {
      "text/html": [
       "<div>\n",
       "<style scoped>\n",
       "    .dataframe tbody tr th:only-of-type {\n",
       "        vertical-align: middle;\n",
       "    }\n",
       "\n",
       "    .dataframe tbody tr th {\n",
       "        vertical-align: top;\n",
       "    }\n",
       "\n",
       "    .dataframe thead th {\n",
       "        text-align: right;\n",
       "    }\n",
       "</style>\n",
       "<table border=\"1\" class=\"dataframe\">\n",
       "  <thead>\n",
       "    <tr style=\"text-align: right;\">\n",
       "      <th></th>\n",
       "      <th>tavg</th>\n",
       "      <th>tmin</th>\n",
       "      <th>tmax</th>\n",
       "      <th>prcp</th>\n",
       "      <th>Unnamed: 5</th>\n",
       "      <th>Unnamed: 6</th>\n",
       "      <th>Unnamed: 7</th>\n",
       "    </tr>\n",
       "    <tr>\n",
       "      <th>time</th>\n",
       "      <th></th>\n",
       "      <th></th>\n",
       "      <th></th>\n",
       "      <th></th>\n",
       "      <th></th>\n",
       "      <th></th>\n",
       "      <th></th>\n",
       "    </tr>\n",
       "  </thead>\n",
       "  <tbody>\n",
       "    <tr>\n",
       "      <th>01-01-1990</th>\n",
       "      <td>7.2</td>\n",
       "      <td>NaN</td>\n",
       "      <td>18.1</td>\n",
       "      <td>0.0</td>\n",
       "      <td>NaN</td>\n",
       "      <td>NaN</td>\n",
       "      <td>NaN</td>\n",
       "    </tr>\n",
       "    <tr>\n",
       "      <th>01-02-1990</th>\n",
       "      <td>10.5</td>\n",
       "      <td>NaN</td>\n",
       "      <td>17.2</td>\n",
       "      <td>0.0</td>\n",
       "      <td>NaN</td>\n",
       "      <td>NaN</td>\n",
       "      <td>NaN</td>\n",
       "    </tr>\n",
       "    <tr>\n",
       "      <th>01-03-1990</th>\n",
       "      <td>10.2</td>\n",
       "      <td>1.8</td>\n",
       "      <td>18.6</td>\n",
       "      <td>NaN</td>\n",
       "      <td>NaN</td>\n",
       "      <td>NaN</td>\n",
       "      <td>NaN</td>\n",
       "    </tr>\n",
       "    <tr>\n",
       "      <th>01-04-1990</th>\n",
       "      <td>9.1</td>\n",
       "      <td>NaN</td>\n",
       "      <td>19.3</td>\n",
       "      <td>0.0</td>\n",
       "      <td>NaN</td>\n",
       "      <td>NaN</td>\n",
       "      <td>NaN</td>\n",
       "    </tr>\n",
       "    <tr>\n",
       "      <th>01-05-1990</th>\n",
       "      <td>13.5</td>\n",
       "      <td>NaN</td>\n",
       "      <td>23.8</td>\n",
       "      <td>0.0</td>\n",
       "      <td>NaN</td>\n",
       "      <td>NaN</td>\n",
       "      <td>NaN</td>\n",
       "    </tr>\n",
       "    <tr>\n",
       "      <th>...</th>\n",
       "      <td>...</td>\n",
       "      <td>...</td>\n",
       "      <td>...</td>\n",
       "      <td>...</td>\n",
       "      <td>...</td>\n",
       "      <td>...</td>\n",
       "      <td>...</td>\n",
       "    </tr>\n",
       "    <tr>\n",
       "      <th>07-21-2022</th>\n",
       "      <td>27.4</td>\n",
       "      <td>25.1</td>\n",
       "      <td>33.1</td>\n",
       "      <td>27.3</td>\n",
       "      <td>NaN</td>\n",
       "      <td>NaN</td>\n",
       "      <td>NaN</td>\n",
       "    </tr>\n",
       "    <tr>\n",
       "      <th>07-22-2022</th>\n",
       "      <td>28.1</td>\n",
       "      <td>26.1</td>\n",
       "      <td>31.1</td>\n",
       "      <td>16.0</td>\n",
       "      <td>NaN</td>\n",
       "      <td>NaN</td>\n",
       "      <td>NaN</td>\n",
       "    </tr>\n",
       "    <tr>\n",
       "      <th>07-23-2022</th>\n",
       "      <td>30.3</td>\n",
       "      <td>26.2</td>\n",
       "      <td>34.7</td>\n",
       "      <td>11.9</td>\n",
       "      <td>NaN</td>\n",
       "      <td>NaN</td>\n",
       "      <td>NaN</td>\n",
       "    </tr>\n",
       "    <tr>\n",
       "      <th>07-24-2022</th>\n",
       "      <td>30.0</td>\n",
       "      <td>28.1</td>\n",
       "      <td>34.7</td>\n",
       "      <td>2.0</td>\n",
       "      <td>NaN</td>\n",
       "      <td>NaN</td>\n",
       "      <td>NaN</td>\n",
       "    </tr>\n",
       "    <tr>\n",
       "      <th>07-25-2022</th>\n",
       "      <td>27.1</td>\n",
       "      <td>24.1</td>\n",
       "      <td>34.3</td>\n",
       "      <td>0.5</td>\n",
       "      <td>NaN</td>\n",
       "      <td>NaN</td>\n",
       "      <td>NaN</td>\n",
       "    </tr>\n",
       "  </tbody>\n",
       "</table>\n",
       "<p>11894 rows × 7 columns</p>\n",
       "</div>"
      ],
      "text/plain": [
       "            tavg  tmin  tmax  prcp  Unnamed: 5  Unnamed: 6  Unnamed: 7\n",
       "time                                                                  \n",
       "01-01-1990   7.2   NaN  18.1   0.0         NaN         NaN         NaN\n",
       "01-02-1990  10.5   NaN  17.2   0.0         NaN         NaN         NaN\n",
       "01-03-1990  10.2   1.8  18.6   NaN         NaN         NaN         NaN\n",
       "01-04-1990   9.1   NaN  19.3   0.0         NaN         NaN         NaN\n",
       "01-05-1990  13.5   NaN  23.8   0.0         NaN         NaN         NaN\n",
       "...          ...   ...   ...   ...         ...         ...         ...\n",
       "07-21-2022  27.4  25.1  33.1  27.3         NaN         NaN         NaN\n",
       "07-22-2022  28.1  26.1  31.1  16.0         NaN         NaN         NaN\n",
       "07-23-2022  30.3  26.2  34.7  11.9         NaN         NaN         NaN\n",
       "07-24-2022  30.0  28.1  34.7   2.0         NaN         NaN         NaN\n",
       "07-25-2022  27.1  24.1  34.3   0.5         NaN         NaN         NaN\n",
       "\n",
       "[11894 rows x 7 columns]"
      ]
     },
     "execution_count": 40,
     "metadata": {},
     "output_type": "execute_result"
    }
   ],
   "source": [
    "weather"
   ]
  },
  {
   "cell_type": "code",
   "execution_count": 43,
   "id": "6b92c56c-0763-4693-a18d-ff371eedcee2",
   "metadata": {},
   "outputs": [
    {
     "data": {
      "text/plain": [
       "tavg          0.011602\n",
       "tmin          0.295527\n",
       "tmax          0.130570\n",
       "prcp          0.517236\n",
       "Unnamed: 5    1.000000\n",
       "Unnamed: 6    1.000000\n",
       "Unnamed: 7    1.000000\n",
       "dtype: float64"
      ]
     },
     "execution_count": 43,
     "metadata": {},
     "output_type": "execute_result"
    }
   ],
   "source": [
    "null_pct = weather.apply(pd.isnull).sum()/weather.shape[0]\n",
    "null_pct"
   ]
  },
  {
   "cell_type": "code",
   "execution_count": 46,
   "id": "50353966-9cb4-470f-82ce-736fba12a65b",
   "metadata": {},
   "outputs": [],
   "source": [
    "valid_columns = weather.columns[null_pct < .20]"
   ]
  },
  {
   "cell_type": "code",
   "execution_count": 47,
   "id": "2a0e07a6-0916-4b1f-a481-5b81b876b9c4",
   "metadata": {},
   "outputs": [
    {
     "data": {
      "text/plain": [
       "Index(['tavg', 'tmax'], dtype='object')"
      ]
     },
     "execution_count": 47,
     "metadata": {},
     "output_type": "execute_result"
    }
   ],
   "source": [
    "valid_columns"
   ]
  },
  {
   "cell_type": "code",
   "execution_count": 48,
   "id": "5b501d9a-c57e-4a49-9150-f7c1e34670b6",
   "metadata": {},
   "outputs": [],
   "source": [
    "weather = weather[valid_columns].copy()"
   ]
  },
  {
   "cell_type": "code",
   "execution_count": 49,
   "id": "00c44eb8-4739-4a12-9f6c-7bd4e157c82d",
   "metadata": {},
   "outputs": [],
   "source": [
    "weather.columns = weather.columns.str.lower()"
   ]
  },
  {
   "cell_type": "code",
   "execution_count": 50,
   "id": "fe4e0908-d644-42e5-b1b9-63435d46eb81",
   "metadata": {},
   "outputs": [
    {
     "data": {
      "text/html": [
       "<div>\n",
       "<style scoped>\n",
       "    .dataframe tbody tr th:only-of-type {\n",
       "        vertical-align: middle;\n",
       "    }\n",
       "\n",
       "    .dataframe tbody tr th {\n",
       "        vertical-align: top;\n",
       "    }\n",
       "\n",
       "    .dataframe thead th {\n",
       "        text-align: right;\n",
       "    }\n",
       "</style>\n",
       "<table border=\"1\" class=\"dataframe\">\n",
       "  <thead>\n",
       "    <tr style=\"text-align: right;\">\n",
       "      <th></th>\n",
       "      <th>tavg</th>\n",
       "      <th>tmax</th>\n",
       "    </tr>\n",
       "    <tr>\n",
       "      <th>time</th>\n",
       "      <th></th>\n",
       "      <th></th>\n",
       "    </tr>\n",
       "  </thead>\n",
       "  <tbody>\n",
       "    <tr>\n",
       "      <th>01-01-1990</th>\n",
       "      <td>7.2</td>\n",
       "      <td>18.1</td>\n",
       "    </tr>\n",
       "    <tr>\n",
       "      <th>01-02-1990</th>\n",
       "      <td>10.5</td>\n",
       "      <td>17.2</td>\n",
       "    </tr>\n",
       "    <tr>\n",
       "      <th>01-03-1990</th>\n",
       "      <td>10.2</td>\n",
       "      <td>18.6</td>\n",
       "    </tr>\n",
       "    <tr>\n",
       "      <th>01-04-1990</th>\n",
       "      <td>9.1</td>\n",
       "      <td>19.3</td>\n",
       "    </tr>\n",
       "    <tr>\n",
       "      <th>01-05-1990</th>\n",
       "      <td>13.5</td>\n",
       "      <td>23.8</td>\n",
       "    </tr>\n",
       "    <tr>\n",
       "      <th>...</th>\n",
       "      <td>...</td>\n",
       "      <td>...</td>\n",
       "    </tr>\n",
       "    <tr>\n",
       "      <th>07-21-2022</th>\n",
       "      <td>27.4</td>\n",
       "      <td>33.1</td>\n",
       "    </tr>\n",
       "    <tr>\n",
       "      <th>07-22-2022</th>\n",
       "      <td>28.1</td>\n",
       "      <td>31.1</td>\n",
       "    </tr>\n",
       "    <tr>\n",
       "      <th>07-23-2022</th>\n",
       "      <td>30.3</td>\n",
       "      <td>34.7</td>\n",
       "    </tr>\n",
       "    <tr>\n",
       "      <th>07-24-2022</th>\n",
       "      <td>30.0</td>\n",
       "      <td>34.7</td>\n",
       "    </tr>\n",
       "    <tr>\n",
       "      <th>07-25-2022</th>\n",
       "      <td>27.1</td>\n",
       "      <td>34.3</td>\n",
       "    </tr>\n",
       "  </tbody>\n",
       "</table>\n",
       "<p>11894 rows × 2 columns</p>\n",
       "</div>"
      ],
      "text/plain": [
       "            tavg  tmax\n",
       "time                  \n",
       "01-01-1990   7.2  18.1\n",
       "01-02-1990  10.5  17.2\n",
       "01-03-1990  10.2  18.6\n",
       "01-04-1990   9.1  19.3\n",
       "01-05-1990  13.5  23.8\n",
       "...          ...   ...\n",
       "07-21-2022  27.4  33.1\n",
       "07-22-2022  28.1  31.1\n",
       "07-23-2022  30.3  34.7\n",
       "07-24-2022  30.0  34.7\n",
       "07-25-2022  27.1  34.3\n",
       "\n",
       "[11894 rows x 2 columns]"
      ]
     },
     "execution_count": 50,
     "metadata": {},
     "output_type": "execute_result"
    }
   ],
   "source": [
    "weather"
   ]
  },
  {
   "cell_type": "code",
   "execution_count": 51,
   "id": "7038663f-d5fa-4e42-a49d-d2354c171e79",
   "metadata": {},
   "outputs": [],
   "source": [
    "weather = weather.ffill()"
   ]
  },
  {
   "cell_type": "code",
   "execution_count": 52,
   "id": "3724aa95-5028-4f1d-a618-c0f9dcfc639b",
   "metadata": {},
   "outputs": [
    {
     "data": {
      "text/plain": [
       "tavg    0\n",
       "tmax    0\n",
       "dtype: int64"
      ]
     },
     "execution_count": 52,
     "metadata": {},
     "output_type": "execute_result"
    }
   ],
   "source": [
    "weather.apply(pd.isnull).sum()"
   ]
  },
  {
   "cell_type": "code",
   "execution_count": 53,
   "id": "d3bb0851-92c5-42aa-9f00-227dfa70d341",
   "metadata": {},
   "outputs": [
    {
     "data": {
      "text/plain": [
       "tavg    float64\n",
       "tmax    float64\n",
       "dtype: object"
      ]
     },
     "execution_count": 53,
     "metadata": {},
     "output_type": "execute_result"
    }
   ],
   "source": [
    "weather.dtypes"
   ]
  },
  {
   "cell_type": "code",
   "execution_count": 54,
   "id": "d46af0b1-664d-4966-9544-18cdc861b1d8",
   "metadata": {},
   "outputs": [
    {
     "data": {
      "text/plain": [
       "Index(['01-01-1990', '01-02-1990', '01-03-1990', '01-04-1990', '01-05-1990',\n",
       "       '01-06-1990', '01-07-1990', '01-08-1990', '01-09-1990', '01-10-1990',\n",
       "       ...\n",
       "       '07-16-2022', '07-17-2022', '07-18-2022', '07-19-2022', '07-20-2022',\n",
       "       '07-21-2022', '07-22-2022', '07-23-2022', '07-24-2022', '07-25-2022'],\n",
       "      dtype='object', name='time', length=11894)"
      ]
     },
     "execution_count": 54,
     "metadata": {},
     "output_type": "execute_result"
    }
   ],
   "source": [
    "weather.index"
   ]
  },
  {
   "cell_type": "code",
   "execution_count": 55,
   "id": "0265ead7-865b-46ae-875c-f4181cd65d81",
   "metadata": {},
   "outputs": [],
   "source": [
    "weather.index = pd.to_datetime(weather.index)"
   ]
  },
  {
   "cell_type": "code",
   "execution_count": 56,
   "id": "558b83ea-776f-4e2f-8612-d94ab3ae5c46",
   "metadata": {},
   "outputs": [
    {
     "data": {
      "text/plain": [
       "time\n",
       "1990    365\n",
       "1991    365\n",
       "1992    366\n",
       "1993    365\n",
       "1994    365\n",
       "1995    365\n",
       "1996    366\n",
       "1997    365\n",
       "1998    365\n",
       "1999    365\n",
       "2000    366\n",
       "2001    365\n",
       "2002    365\n",
       "2003    365\n",
       "2004    366\n",
       "2005    365\n",
       "2006    365\n",
       "2007    365\n",
       "2008    366\n",
       "2009    365\n",
       "2010    365\n",
       "2011    365\n",
       "2012    366\n",
       "2013    365\n",
       "2014    365\n",
       "2015    365\n",
       "2016    366\n",
       "2017    365\n",
       "2018    365\n",
       "2019    365\n",
       "2020    366\n",
       "2021    365\n",
       "2022    206\n",
       "Name: count, dtype: int64"
      ]
     },
     "execution_count": 56,
     "metadata": {},
     "output_type": "execute_result"
    }
   ],
   "source": [
    "weather.index.year.value_counts().sort_index()"
   ]
  },
  {
   "cell_type": "code",
   "execution_count": 57,
   "id": "246f310d-ebcf-4421-bf92-4839b228abea",
   "metadata": {},
   "outputs": [],
   "source": [
    "weather[\"target\"] = weather.shift(-1)[\"tmax\"]"
   ]
  },
  {
   "cell_type": "code",
   "execution_count": 58,
   "id": "b216b637-7ade-4a35-8171-fa2fe3fce1bc",
   "metadata": {},
   "outputs": [
    {
     "data": {
      "text/html": [
       "<div>\n",
       "<style scoped>\n",
       "    .dataframe tbody tr th:only-of-type {\n",
       "        vertical-align: middle;\n",
       "    }\n",
       "\n",
       "    .dataframe tbody tr th {\n",
       "        vertical-align: top;\n",
       "    }\n",
       "\n",
       "    .dataframe thead th {\n",
       "        text-align: right;\n",
       "    }\n",
       "</style>\n",
       "<table border=\"1\" class=\"dataframe\">\n",
       "  <thead>\n",
       "    <tr style=\"text-align: right;\">\n",
       "      <th></th>\n",
       "      <th>tavg</th>\n",
       "      <th>tmax</th>\n",
       "      <th>target</th>\n",
       "    </tr>\n",
       "    <tr>\n",
       "      <th>time</th>\n",
       "      <th></th>\n",
       "      <th></th>\n",
       "      <th></th>\n",
       "    </tr>\n",
       "  </thead>\n",
       "  <tbody>\n",
       "    <tr>\n",
       "      <th>1990-01-01</th>\n",
       "      <td>7.2</td>\n",
       "      <td>18.1</td>\n",
       "      <td>17.2</td>\n",
       "    </tr>\n",
       "    <tr>\n",
       "      <th>1990-01-02</th>\n",
       "      <td>10.5</td>\n",
       "      <td>17.2</td>\n",
       "      <td>18.6</td>\n",
       "    </tr>\n",
       "    <tr>\n",
       "      <th>1990-01-03</th>\n",
       "      <td>10.2</td>\n",
       "      <td>18.6</td>\n",
       "      <td>19.3</td>\n",
       "    </tr>\n",
       "    <tr>\n",
       "      <th>1990-01-04</th>\n",
       "      <td>9.1</td>\n",
       "      <td>19.3</td>\n",
       "      <td>23.8</td>\n",
       "    </tr>\n",
       "    <tr>\n",
       "      <th>1990-01-05</th>\n",
       "      <td>13.5</td>\n",
       "      <td>23.8</td>\n",
       "      <td>21.4</td>\n",
       "    </tr>\n",
       "    <tr>\n",
       "      <th>...</th>\n",
       "      <td>...</td>\n",
       "      <td>...</td>\n",
       "      <td>...</td>\n",
       "    </tr>\n",
       "    <tr>\n",
       "      <th>2022-07-21</th>\n",
       "      <td>27.4</td>\n",
       "      <td>33.1</td>\n",
       "      <td>31.1</td>\n",
       "    </tr>\n",
       "    <tr>\n",
       "      <th>2022-07-22</th>\n",
       "      <td>28.1</td>\n",
       "      <td>31.1</td>\n",
       "      <td>34.7</td>\n",
       "    </tr>\n",
       "    <tr>\n",
       "      <th>2022-07-23</th>\n",
       "      <td>30.3</td>\n",
       "      <td>34.7</td>\n",
       "      <td>34.7</td>\n",
       "    </tr>\n",
       "    <tr>\n",
       "      <th>2022-07-24</th>\n",
       "      <td>30.0</td>\n",
       "      <td>34.7</td>\n",
       "      <td>34.3</td>\n",
       "    </tr>\n",
       "    <tr>\n",
       "      <th>2022-07-25</th>\n",
       "      <td>27.1</td>\n",
       "      <td>34.3</td>\n",
       "      <td>NaN</td>\n",
       "    </tr>\n",
       "  </tbody>\n",
       "</table>\n",
       "<p>11894 rows × 3 columns</p>\n",
       "</div>"
      ],
      "text/plain": [
       "            tavg  tmax  target\n",
       "time                          \n",
       "1990-01-01   7.2  18.1    17.2\n",
       "1990-01-02  10.5  17.2    18.6\n",
       "1990-01-03  10.2  18.6    19.3\n",
       "1990-01-04   9.1  19.3    23.8\n",
       "1990-01-05  13.5  23.8    21.4\n",
       "...          ...   ...     ...\n",
       "2022-07-21  27.4  33.1    31.1\n",
       "2022-07-22  28.1  31.1    34.7\n",
       "2022-07-23  30.3  34.7    34.7\n",
       "2022-07-24  30.0  34.7    34.3\n",
       "2022-07-25  27.1  34.3     NaN\n",
       "\n",
       "[11894 rows x 3 columns]"
      ]
     },
     "execution_count": 58,
     "metadata": {},
     "output_type": "execute_result"
    }
   ],
   "source": [
    "weather"
   ]
  },
  {
   "cell_type": "code",
   "execution_count": 59,
   "id": "b66b7be4-b085-4e85-b90f-25464b5d1c2b",
   "metadata": {},
   "outputs": [],
   "source": [
    "weather = weather.ffill()"
   ]
  },
  {
   "cell_type": "code",
   "execution_count": 60,
   "id": "21bd450d-54f4-44da-895f-532af1b3c03a",
   "metadata": {},
   "outputs": [
    {
     "data": {
      "text/html": [
       "<div>\n",
       "<style scoped>\n",
       "    .dataframe tbody tr th:only-of-type {\n",
       "        vertical-align: middle;\n",
       "    }\n",
       "\n",
       "    .dataframe tbody tr th {\n",
       "        vertical-align: top;\n",
       "    }\n",
       "\n",
       "    .dataframe thead th {\n",
       "        text-align: right;\n",
       "    }\n",
       "</style>\n",
       "<table border=\"1\" class=\"dataframe\">\n",
       "  <thead>\n",
       "    <tr style=\"text-align: right;\">\n",
       "      <th></th>\n",
       "      <th>tavg</th>\n",
       "      <th>tmax</th>\n",
       "      <th>target</th>\n",
       "    </tr>\n",
       "    <tr>\n",
       "      <th>time</th>\n",
       "      <th></th>\n",
       "      <th></th>\n",
       "      <th></th>\n",
       "    </tr>\n",
       "  </thead>\n",
       "  <tbody>\n",
       "    <tr>\n",
       "      <th>1990-01-01</th>\n",
       "      <td>7.2</td>\n",
       "      <td>18.1</td>\n",
       "      <td>17.2</td>\n",
       "    </tr>\n",
       "    <tr>\n",
       "      <th>1990-01-02</th>\n",
       "      <td>10.5</td>\n",
       "      <td>17.2</td>\n",
       "      <td>18.6</td>\n",
       "    </tr>\n",
       "    <tr>\n",
       "      <th>1990-01-03</th>\n",
       "      <td>10.2</td>\n",
       "      <td>18.6</td>\n",
       "      <td>19.3</td>\n",
       "    </tr>\n",
       "    <tr>\n",
       "      <th>1990-01-04</th>\n",
       "      <td>9.1</td>\n",
       "      <td>19.3</td>\n",
       "      <td>23.8</td>\n",
       "    </tr>\n",
       "    <tr>\n",
       "      <th>1990-01-05</th>\n",
       "      <td>13.5</td>\n",
       "      <td>23.8</td>\n",
       "      <td>21.4</td>\n",
       "    </tr>\n",
       "    <tr>\n",
       "      <th>...</th>\n",
       "      <td>...</td>\n",
       "      <td>...</td>\n",
       "      <td>...</td>\n",
       "    </tr>\n",
       "    <tr>\n",
       "      <th>2022-07-21</th>\n",
       "      <td>27.4</td>\n",
       "      <td>33.1</td>\n",
       "      <td>31.1</td>\n",
       "    </tr>\n",
       "    <tr>\n",
       "      <th>2022-07-22</th>\n",
       "      <td>28.1</td>\n",
       "      <td>31.1</td>\n",
       "      <td>34.7</td>\n",
       "    </tr>\n",
       "    <tr>\n",
       "      <th>2022-07-23</th>\n",
       "      <td>30.3</td>\n",
       "      <td>34.7</td>\n",
       "      <td>34.7</td>\n",
       "    </tr>\n",
       "    <tr>\n",
       "      <th>2022-07-24</th>\n",
       "      <td>30.0</td>\n",
       "      <td>34.7</td>\n",
       "      <td>34.3</td>\n",
       "    </tr>\n",
       "    <tr>\n",
       "      <th>2022-07-25</th>\n",
       "      <td>27.1</td>\n",
       "      <td>34.3</td>\n",
       "      <td>34.3</td>\n",
       "    </tr>\n",
       "  </tbody>\n",
       "</table>\n",
       "<p>11894 rows × 3 columns</p>\n",
       "</div>"
      ],
      "text/plain": [
       "            tavg  tmax  target\n",
       "time                          \n",
       "1990-01-01   7.2  18.1    17.2\n",
       "1990-01-02  10.5  17.2    18.6\n",
       "1990-01-03  10.2  18.6    19.3\n",
       "1990-01-04   9.1  19.3    23.8\n",
       "1990-01-05  13.5  23.8    21.4\n",
       "...          ...   ...     ...\n",
       "2022-07-21  27.4  33.1    31.1\n",
       "2022-07-22  28.1  31.1    34.7\n",
       "2022-07-23  30.3  34.7    34.7\n",
       "2022-07-24  30.0  34.7    34.3\n",
       "2022-07-25  27.1  34.3    34.3\n",
       "\n",
       "[11894 rows x 3 columns]"
      ]
     },
     "execution_count": 60,
     "metadata": {},
     "output_type": "execute_result"
    }
   ],
   "source": [
    "weather"
   ]
  },
  {
   "cell_type": "code",
   "execution_count": 61,
   "id": "f4a750d2-f0b2-478b-aa2f-c08af5e8980d",
   "metadata": {},
   "outputs": [],
   "source": [
    "from sklearn.linear_model import Ridge\n",
    "\n",
    "rr = Ridge(alpha=.1)"
   ]
  },
  {
   "cell_type": "code",
   "execution_count": 62,
   "id": "e0b1af93-9235-4b4c-bc32-f0aa5fac7b7d",
   "metadata": {},
   "outputs": [],
   "source": [
    "predictors = weather.columns[~weather.columns.isin([\"target\", \"name\", \"station\"])]"
   ]
  },
  {
   "cell_type": "code",
   "execution_count": 63,
   "id": "e3746963-9a97-4ba5-a7e8-670dc930de43",
   "metadata": {},
   "outputs": [],
   "source": [
    "def backtest(weather, model, predictors, start=3650, step=90):\n",
    "    all_predictions = []\n",
    "    \n",
    "    for i in range(start, weather.shape[0], step):\n",
    "        train = weather.iloc[:i,:]\n",
    "        test = weather.iloc[i:(i+step),:]\n",
    "        \n",
    "        model.fit(train[predictors], train[\"target\"])\n",
    "        \n",
    "        preds = model.predict(test[predictors])\n",
    "        preds = pd.Series(preds, index=test.index)\n",
    "        combined = pd.concat([test[\"target\"], preds], axis=1)\n",
    "        combined.columns = [\"actual\", \"prediction\"]\n",
    "        combined[\"diff\"] = (combined[\"prediction\"] - combined[\"actual\"]).abs()\n",
    "        \n",
    "        all_predictions.append(combined)\n",
    "    return pd.concat(all_predictions)"
   ]
  },
  {
   "cell_type": "code",
   "execution_count": 64,
   "id": "85ec72f5-4019-465e-ba12-e3dfe63175eb",
   "metadata": {},
   "outputs": [],
   "source": [
    "predictions = backtest(weather, rr, predictors)"
   ]
  },
  {
   "cell_type": "code",
   "execution_count": 65,
   "id": "6ef8265b-ed34-4084-b938-045c7c574172",
   "metadata": {},
   "outputs": [
    {
     "data": {
      "text/plain": [
       "0.9702238872183475"
      ]
     },
     "execution_count": 65,
     "metadata": {},
     "output_type": "execute_result"
    }
   ],
   "source": [
    "from sklearn.metrics import mean_absolute_error, mean_squared_error\n",
    "\n",
    "mean_absolute_error(predictions[\"actual\"], predictions[\"prediction\"])"
   ]
  },
  {
   "cell_type": "code",
   "execution_count": 66,
   "id": "5073ff62-3dd2-4148-b6e1-03640782ae62",
   "metadata": {},
   "outputs": [
    {
     "data": {
      "text/html": [
       "<div>\n",
       "<style scoped>\n",
       "    .dataframe tbody tr th:only-of-type {\n",
       "        vertical-align: middle;\n",
       "    }\n",
       "\n",
       "    .dataframe tbody tr th {\n",
       "        vertical-align: top;\n",
       "    }\n",
       "\n",
       "    .dataframe thead th {\n",
       "        text-align: right;\n",
       "    }\n",
       "</style>\n",
       "<table border=\"1\" class=\"dataframe\">\n",
       "  <thead>\n",
       "    <tr style=\"text-align: right;\">\n",
       "      <th></th>\n",
       "      <th>actual</th>\n",
       "      <th>prediction</th>\n",
       "      <th>diff</th>\n",
       "    </tr>\n",
       "    <tr>\n",
       "      <th>time</th>\n",
       "      <th></th>\n",
       "      <th></th>\n",
       "      <th></th>\n",
       "    </tr>\n",
       "  </thead>\n",
       "  <tbody>\n",
       "    <tr>\n",
       "      <th>2007-06-13</th>\n",
       "      <td>28.3</td>\n",
       "      <td>37.872489</td>\n",
       "      <td>9.572489</td>\n",
       "    </tr>\n",
       "    <tr>\n",
       "      <th>2006-03-10</th>\n",
       "      <td>23.6</td>\n",
       "      <td>32.768667</td>\n",
       "      <td>9.168667</td>\n",
       "    </tr>\n",
       "    <tr>\n",
       "      <th>2010-01-08</th>\n",
       "      <td>12.4</td>\n",
       "      <td>21.511726</td>\n",
       "      <td>9.111726</td>\n",
       "    </tr>\n",
       "    <tr>\n",
       "      <th>2001-12-14</th>\n",
       "      <td>15.1</td>\n",
       "      <td>23.672577</td>\n",
       "      <td>8.572577</td>\n",
       "    </tr>\n",
       "    <tr>\n",
       "      <th>2019-04-16</th>\n",
       "      <td>31.6</td>\n",
       "      <td>40.137476</td>\n",
       "      <td>8.537476</td>\n",
       "    </tr>\n",
       "    <tr>\n",
       "      <th>...</th>\n",
       "      <td>...</td>\n",
       "      <td>...</td>\n",
       "      <td>...</td>\n",
       "    </tr>\n",
       "    <tr>\n",
       "      <th>2001-10-22</th>\n",
       "      <td>32.7</td>\n",
       "      <td>32.699342</td>\n",
       "      <td>0.000658</td>\n",
       "    </tr>\n",
       "    <tr>\n",
       "      <th>2014-03-02</th>\n",
       "      <td>25.4</td>\n",
       "      <td>25.400592</td>\n",
       "      <td>0.000592</td>\n",
       "    </tr>\n",
       "    <tr>\n",
       "      <th>2003-05-02</th>\n",
       "      <td>39.5</td>\n",
       "      <td>39.500296</td>\n",
       "      <td>0.000296</td>\n",
       "    </tr>\n",
       "    <tr>\n",
       "      <th>2003-12-14</th>\n",
       "      <td>28.9</td>\n",
       "      <td>28.899780</td>\n",
       "      <td>0.000220</td>\n",
       "    </tr>\n",
       "    <tr>\n",
       "      <th>2001-11-30</th>\n",
       "      <td>27.1</td>\n",
       "      <td>27.099915</td>\n",
       "      <td>0.000085</td>\n",
       "    </tr>\n",
       "  </tbody>\n",
       "</table>\n",
       "<p>8244 rows × 3 columns</p>\n",
       "</div>"
      ],
      "text/plain": [
       "            actual  prediction      diff\n",
       "time                                    \n",
       "2007-06-13    28.3   37.872489  9.572489\n",
       "2006-03-10    23.6   32.768667  9.168667\n",
       "2010-01-08    12.4   21.511726  9.111726\n",
       "2001-12-14    15.1   23.672577  8.572577\n",
       "2019-04-16    31.6   40.137476  8.537476\n",
       "...            ...         ...       ...\n",
       "2001-10-22    32.7   32.699342  0.000658\n",
       "2014-03-02    25.4   25.400592  0.000592\n",
       "2003-05-02    39.5   39.500296  0.000296\n",
       "2003-12-14    28.9   28.899780  0.000220\n",
       "2001-11-30    27.1   27.099915  0.000085\n",
       "\n",
       "[8244 rows x 3 columns]"
      ]
     },
     "execution_count": 66,
     "metadata": {},
     "output_type": "execute_result"
    }
   ],
   "source": [
    "predictions.sort_values(\"diff\", ascending=False)"
   ]
  },
  {
   "cell_type": "code",
   "execution_count": 67,
   "id": "0f5af9ae-8306-4814-85a3-0e98642ded85",
   "metadata": {},
   "outputs": [
    {
     "data": {
      "text/plain": [
       "tavg    0.221823\n",
       "tmax    0.744462\n",
       "dtype: float64"
      ]
     },
     "execution_count": 67,
     "metadata": {},
     "output_type": "execute_result"
    }
   ],
   "source": [
    "pd.Series(rr.coef_, index=predictors)"
   ]
  },
  {
   "cell_type": "code",
   "execution_count": 69,
   "id": "6af4f22a-a9a9-4b65-8d49-3365da48b8ec",
   "metadata": {},
   "outputs": [],
   "source": [
    "def pct_diff(old, new):\n",
    "    return (new - old) / old\n",
    "\n",
    "def compute_rolling(weather, horizon, col):\n",
    "    label = f\"rolling_{horizon}_{col}\"\n",
    "    weather[label] = weather[col].rolling(horizon).mean()\n",
    "    weather[f\"{label}_pct\"] = pct_diff(weather[label], weather[col])\n",
    "    return weather\n",
    "    \n",
    "rolling_horizons = [3, 14]\n",
    "for horizon in rolling_horizons:\n",
    "    for col in [\"tmax\", \"tavg\"]:\n",
    "        weather = compute_rolling(weather, horizon, col)"
   ]
  },
  {
   "cell_type": "code",
   "execution_count": 71,
   "id": "ff1ccc4b-e48a-40bf-9657-2cc1b5d0fdca",
   "metadata": {},
   "outputs": [],
   "source": [
    "def expand_mean(df):\n",
    "    return df.expanding(1).mean()\n",
    "\n",
    "for col in [\"tmax\", \"tavg\"]:\n",
    "    weather[f\"month_avg_{col}\"] = weather[col].groupby(weather.index.month, group_keys=False).apply(expand_mean)\n",
    "    weather[f\"day_avg_{col}\"] = weather[col].groupby(weather.index.day_of_year, group_keys=False).apply(expand_mean)"
   ]
  },
  {
   "cell_type": "code",
   "execution_count": 72,
   "id": "9d568ccd-7364-4314-944e-f8d8aecd9a0e",
   "metadata": {},
   "outputs": [],
   "source": [
    "weather = weather.iloc[14:,:]\n",
    "weather = weather.fillna(0)"
   ]
  },
  {
   "cell_type": "code",
   "execution_count": 73,
   "id": "ad865034-621f-4e23-8eeb-bbe6469a6714",
   "metadata": {},
   "outputs": [],
   "source": [
    "predictors = weather.columns[~weather.columns.isin([\"target\", \"name\", \"station\"])]"
   ]
  },
  {
   "cell_type": "code",
   "execution_count": 74,
   "id": "c39ab4af-a1a8-4968-99b1-266afe31252a",
   "metadata": {},
   "outputs": [
    {
     "data": {
      "text/plain": [
       "0.9048765011397446"
      ]
     },
     "execution_count": 74,
     "metadata": {},
     "output_type": "execute_result"
    }
   ],
   "source": [
    "predictions = backtest(weather, rr, predictors)\n",
    "mean_absolute_error(predictions[\"actual\"], predictions[\"prediction\"])"
   ]
  },
  {
   "cell_type": "code",
   "execution_count": 75,
   "id": "1b1a403f-71b3-41d4-a507-60af90e5606e",
   "metadata": {},
   "outputs": [
    {
     "data": {
      "text/html": [
       "<div>\n",
       "<style scoped>\n",
       "    .dataframe tbody tr th:only-of-type {\n",
       "        vertical-align: middle;\n",
       "    }\n",
       "\n",
       "    .dataframe tbody tr th {\n",
       "        vertical-align: top;\n",
       "    }\n",
       "\n",
       "    .dataframe thead th {\n",
       "        text-align: right;\n",
       "    }\n",
       "</style>\n",
       "<table border=\"1\" class=\"dataframe\">\n",
       "  <thead>\n",
       "    <tr style=\"text-align: right;\">\n",
       "      <th></th>\n",
       "      <th>actual</th>\n",
       "      <th>prediction</th>\n",
       "      <th>diff</th>\n",
       "    </tr>\n",
       "    <tr>\n",
       "      <th>time</th>\n",
       "      <th></th>\n",
       "      <th></th>\n",
       "      <th></th>\n",
       "    </tr>\n",
       "  </thead>\n",
       "  <tbody>\n",
       "    <tr>\n",
       "      <th>2010-01-08</th>\n",
       "      <td>12.4</td>\n",
       "      <td>21.275384</td>\n",
       "      <td>8.875384</td>\n",
       "    </tr>\n",
       "    <tr>\n",
       "      <th>2003-01-22</th>\n",
       "      <td>21.7</td>\n",
       "      <td>13.336615</td>\n",
       "      <td>8.363385</td>\n",
       "    </tr>\n",
       "    <tr>\n",
       "      <th>2006-03-10</th>\n",
       "      <td>23.6</td>\n",
       "      <td>31.931219</td>\n",
       "      <td>8.331219</td>\n",
       "    </tr>\n",
       "    <tr>\n",
       "      <th>2001-12-14</th>\n",
       "      <td>15.1</td>\n",
       "      <td>23.421374</td>\n",
       "      <td>8.321374</td>\n",
       "    </tr>\n",
       "    <tr>\n",
       "      <th>2007-06-13</th>\n",
       "      <td>28.3</td>\n",
       "      <td>36.611242</td>\n",
       "      <td>8.311242</td>\n",
       "    </tr>\n",
       "    <tr>\n",
       "      <th>...</th>\n",
       "      <td>...</td>\n",
       "      <td>...</td>\n",
       "      <td>...</td>\n",
       "    </tr>\n",
       "    <tr>\n",
       "      <th>2020-08-15</th>\n",
       "      <td>35.3</td>\n",
       "      <td>35.301115</td>\n",
       "      <td>0.001115</td>\n",
       "    </tr>\n",
       "    <tr>\n",
       "      <th>2001-12-08</th>\n",
       "      <td>28.6</td>\n",
       "      <td>28.599087</td>\n",
       "      <td>0.000913</td>\n",
       "    </tr>\n",
       "    <tr>\n",
       "      <th>2012-04-09</th>\n",
       "      <td>39.0</td>\n",
       "      <td>39.000868</td>\n",
       "      <td>0.000868</td>\n",
       "    </tr>\n",
       "    <tr>\n",
       "      <th>2021-07-24</th>\n",
       "      <td>36.3</td>\n",
       "      <td>36.300603</td>\n",
       "      <td>0.000603</td>\n",
       "    </tr>\n",
       "    <tr>\n",
       "      <th>2022-04-23</th>\n",
       "      <td>40.1</td>\n",
       "      <td>40.099513</td>\n",
       "      <td>0.000487</td>\n",
       "    </tr>\n",
       "  </tbody>\n",
       "</table>\n",
       "<p>8230 rows × 3 columns</p>\n",
       "</div>"
      ],
      "text/plain": [
       "            actual  prediction      diff\n",
       "time                                    \n",
       "2010-01-08    12.4   21.275384  8.875384\n",
       "2003-01-22    21.7   13.336615  8.363385\n",
       "2006-03-10    23.6   31.931219  8.331219\n",
       "2001-12-14    15.1   23.421374  8.321374\n",
       "2007-06-13    28.3   36.611242  8.311242\n",
       "...            ...         ...       ...\n",
       "2020-08-15    35.3   35.301115  0.001115\n",
       "2001-12-08    28.6   28.599087  0.000913\n",
       "2012-04-09    39.0   39.000868  0.000868\n",
       "2021-07-24    36.3   36.300603  0.000603\n",
       "2022-04-23    40.1   40.099513  0.000487\n",
       "\n",
       "[8230 rows x 3 columns]"
      ]
     },
     "execution_count": 75,
     "metadata": {},
     "output_type": "execute_result"
    }
   ],
   "source": [
    "predictions.sort_values(\"diff\", ascending=False)"
   ]
  },
  {
   "cell_type": "code",
   "execution_count": null,
   "id": "82880319-0b42-4a91-b37f-b4cd3b7c79c5",
   "metadata": {},
   "outputs": [],
   "source": []
  }
 ],
 "metadata": {
  "kernelspec": {
   "display_name": "Python 3 (ipykernel)",
   "language": "python",
   "name": "python3"
  },
  "language_info": {
   "codemirror_mode": {
    "name": "ipython",
    "version": 3
   },
   "file_extension": ".py",
   "mimetype": "text/x-python",
   "name": "python",
   "nbconvert_exporter": "python",
   "pygments_lexer": "ipython3",
   "version": "3.10.11"
  }
 },
 "nbformat": 4,
 "nbformat_minor": 5
}
